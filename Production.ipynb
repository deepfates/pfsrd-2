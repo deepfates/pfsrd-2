{
 "cells": [
  {
   "cell_type": "code",
   "execution_count": 1,
   "metadata": {},
   "outputs": [
    {
     "name": "stderr",
     "output_type": "stream",
     "text": [
      "INFO:aitextgen:Loading GPT-2 model from provided psrd_only/pytorch_model.bin.\n",
      "INFO:aitextgen:Using the default GPT-2 Tokenizer.\n"
     ]
    }
   ],
   "source": [
    "# # Freeze versions of dependencies for now\n",
    "# !pip install transformers==2.9.1\n",
    "\n",
    "# !pip install -q aitextgen\n",
    "\n",
    "from aitextgen import aitextgen\n",
    "import ipywidgets as widgets\n",
    "\n",
    "\n",
    "ai = aitextgen(model=\"psrd_only/pytorch_model.bin\", config=\"psrd_only/config.json\", to_gpu=True)\n",
    "\n",
    "def add_more(value):\n",
    "    if len(value) > 1 and value[-1] !=\"\\n\" and value[-1] !=\":\":\n",
    "        value += \"\\n\"\n",
    "    return(value)\n",
    "\n",
    "def printr(result):\n",
    "    for o in [\"name\", \"<|startoftext|>\"]:\n",
    "        if o in result:\n",
    "            result = result.split(o)[:2]\n",
    "    print(\"\\n\",\"name\".join(result))\n",
    "\n",
    "def on_go(typ, name, more, temp=1.0):\n",
    "    out.clear_output()\n",
    "    with out:\n",
    "        print(\"...\")\n",
    "    result = ai.generate_one(\n",
    "                prompt=f'''<|startoftext|>\\ntype:{typ.value}\\nname:{name.value}\\n{add_more(more.value)}''',\n",
    "                max_length=800,\n",
    "                temperature=temp)\n",
    "    with out:\n",
    "        printr(result)\n",
    "\n",
    "\n",
    "def on_button_clicked(b):\n",
    "    on_go(typ,name,more)"
   ]
  },
  {
   "cell_type": "code",
   "execution_count": 17,
   "metadata": {
    "scrolled": true
   },
   "outputs": [],
   "source": [
    "typ = widgets.Dropdown(description=\"Type:\", options=[\"creature\", \"item\", \"class\", \"feat\", \"ability\", \"spell\", \"trait\", \"section\"])\n",
    "name = widgets.Text(description=\"Name:\", value=\"Valkyrie the Cat\")\n",
    "more = widgets.Textarea(description=\"Other args:\", value=\"\", placeholder=\"key: value\\nkey2: value2\")\n",
    "temp = widgets.FloatSlider(description=\"Creativity\", value=0.9, min=0.7, max=1.0)\n",
    "\n",
    "go = widgets.Button(description=\"Generate\")\n",
    "go.on_click(on_button_clicked)\n",
    "\n",
    "out = widgets.Output(layout={'border': '1px solid black'})"
   ]
  },
  {
   "cell_type": "code",
   "execution_count": 18,
   "metadata": {
    "scrolled": false
   },
   "outputs": [
    {
     "data": {
      "application/vnd.jupyter.widget-view+json": {
       "model_id": "5dc12122c6604198af1f764a9c173d49",
       "version_major": 2,
       "version_minor": 0
      },
      "text/plain": [
       "Dropdown(description='Type:', options=('creature', 'item', 'class', 'feat', 'ability', 'spell', 'trait', 'sect…"
      ]
     },
     "metadata": {},
     "output_type": "display_data"
    },
    {
     "data": {
      "application/vnd.jupyter.widget-view+json": {
       "model_id": "04bace73b01e43079563b408add64316",
       "version_major": 2,
       "version_minor": 0
      },
      "text/plain": [
       "Text(value='Valkyrie the Cat', description='Name:')"
      ]
     },
     "metadata": {},
     "output_type": "display_data"
    },
    {
     "data": {
      "application/vnd.jupyter.widget-view+json": {
       "model_id": "ebc82f5af945427588dc49cdaacafa8b",
       "version_major": 2,
       "version_minor": 0
      },
      "text/plain": [
       "Textarea(value='', description='Other args:', placeholder='key: value\\nkey2: value2')"
      ]
     },
     "metadata": {},
     "output_type": "display_data"
    },
    {
     "data": {
      "application/vnd.jupyter.widget-view+json": {
       "model_id": "ea03078fb5f64373b0f265a17517adf0",
       "version_major": 2,
       "version_minor": 0
      },
      "text/plain": [
       "FloatSlider(value=0.9, description='Creativity', max=1.0, min=0.7)"
      ]
     },
     "metadata": {},
     "output_type": "display_data"
    },
    {
     "data": {
      "application/vnd.jupyter.widget-view+json": {
       "model_id": "66201269974a45a8a25b22cf70d269fb",
       "version_major": 2,
       "version_minor": 0
      },
      "text/plain": [
       "Button(description='Generate', style=ButtonStyle())"
      ]
     },
     "metadata": {},
     "output_type": "display_data"
    },
    {
     "data": {
      "application/vnd.jupyter.widget-view+json": {
       "model_id": "d45cb881b00f4761b0bf85c3307c0890",
       "version_major": 2,
       "version_minor": 0
      },
      "text/plain": [
       "Output(layout=Layout(border='1px solid black'), outputs=({'output_type': 'stream', 'text': \"...\\n\\n <|startoft…"
      ]
     },
     "metadata": {},
     "output_type": "display_data"
    }
   ],
   "source": [
    "display(typ,name,more,temp,go,out)\n"
   ]
  },
  {
   "cell_type": "code",
   "execution_count": null,
   "metadata": {},
   "outputs": [],
   "source": []
  }
 ],
 "metadata": {
  "kernelspec": {
   "display_name": "Python 3.7",
   "language": "python",
   "name": "python3.7"
  },
  "language_info": {
   "codemirror_mode": {
    "name": "ipython",
    "version": 3
   },
   "file_extension": ".py",
   "mimetype": "text/x-python",
   "name": "python",
   "nbconvert_exporter": "python",
   "pygments_lexer": "ipython3",
   "version": "3.8.3"
  }
 },
 "nbformat": 4,
 "nbformat_minor": 4
}
